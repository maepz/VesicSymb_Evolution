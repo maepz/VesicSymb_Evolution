{
 "cells": [
  {
   "cell_type": "code",
   "execution_count": 1,
   "metadata": {},
   "outputs": [],
   "source": [
    "from Bio import SeqIO\n",
    "from Bio.Seq import Seq\n",
    "from Bio.SeqRecord import SeqRecord\n",
    "from os import listdir\n"
   ]
  },
  {
   "cell_type": "code",
   "execution_count": 2,
   "metadata": {},
   "outputs": [
    {
     "name": "stdout",
     "output_type": "stream",
     "text": [
      "Bathy\n",
      "R.fausta\n",
      "R.magnifica\n",
      "R.pacifica\n",
      "R.phaseoliformis\n",
      "R.pliocardia\n",
      "R.rectimargo\n",
      "R.southwardae\n",
      "SUP05\n",
      "V.diagonalis\n"
     ]
    },
    {
     "name": "stderr",
     "output_type": "stream",
     "text": [
      "/home/maeperez/virtualenv/py36/lib/python3.6/site-packages/Bio/GenBank/Scanner.py:215: BiopythonParserWarning: Over indented source feature?\n",
      "  BiopythonParserWarning,\n",
      "/home/maeperez/virtualenv/py36/lib/python3.6/site-packages/Bio/GenBank/__init__.py:1398: BiopythonParserWarning: Expected sequence length 1021329, found 1023923 (Contig_1).\n",
      "  BiopythonParserWarning,\n"
     ]
    },
    {
     "name": "stdout",
     "output_type": "stream",
     "text": [
      "V.extenta\n",
      "V.gigas1\n",
      "V.gigas2\n",
      "V.marissinica\n",
      "V.okutanii\n",
      "V.soyoae1\n",
      "V.soyoae2\n"
     ]
    },
    {
     "data": {
      "text/plain": [
       "610"
      ]
     },
     "execution_count": 2,
     "metadata": {},
     "output_type": "execute_result"
    }
   ],
   "source": [
    "\n",
    "goodfiles={'Bathy':'../genomes/Bathy_complete_with_CRISPRannot.gbk',\\\n",
    "'R.fausta':'../genomes/R.fausta.gbk',\\\n",
    "'R.magnifica':'../genomes/R.magnifica.gbk',\\\n",
    "'R.pacifica':'../genomes/R.pacifica_one_contig_circular_fully_annotated.gbk',\\\n",
    "'R.phaseoliformis':'../genomes/R.phaseoliformis_8_contigs_fully_annotated.gbk',\\\n",
    "'R.pliocardia':'../genomes/R.pliocardia_one_contig_circular_fully_annotated.gbk',\\\n",
    "'R.rectimargo':'../genomes/R.rectimargo_one_contig_circular_fully_annotated.gbk',\\\n",
    "'R.southwardae':'../genomes/R.southwardae_39_contigs_fully_annotated.gbk',\\\n",
    "'SUP05':'../genomes/SUP05.gbk',\\\n",
    "'V.diagonalis':'../genomes/V.diagonalis_one_contig_circular_fully_annotated.gbk',\\\n",
    "'V.extenta':'../genomes/V.extenta_one_contig_circular_fully_annotated.gbk',\\\n",
    "'V.gigas1':'../genomes/V.gigas1_one_contig_circular_fully_annotated.gbk',\\\n",
    "'V.gigas2':'../genomes/V.gigas2_one_contig_circular_fully_annotated.gbk',\\\n",
    "'V.marissinica':'../genomes/V.marissinica_withlocustags.gbk',\\\n",
    "'V.okutanii':'../genomes/V.okutanii_with_locus_tags.gbk',\\\n",
    "'V.soyoae1':'../genomes/V.soyoae1_one_contig_circular_fully_annotated.gbk',\\\n",
    "'V.soyoae2':'../genomes/V.soyoae2_one_contig_circular_fully_annotated.gbk'}\n",
    "\n",
    "trna=[]\n",
    "for sample in goodfiles.keys():\n",
    "    print(sample)\n",
    "    for record in SeqIO.parse(goodfiles[sample],'genbank'):\n",
    "            for feature in record.features:\n",
    "                if feature.type in ['tRNA']:\n",
    "                    locus_tag = feature.qualifiers['locus_tag'][0]\n",
    "                    rec=feature.location.extract(record)\n",
    "                    rec.id=locus_tag\n",
    "                    rec.name=''\n",
    "                    rec.description=''\n",
    "                    trna+=[rec]\n",
    "                    \n",
    "SeqIO.write(trna,'tRNAs.fasta','fasta')\n",
    "                    \n",
    "                    \n",
    "                    "
   ]
  },
  {
   "cell_type": "code",
   "execution_count": null,
   "metadata": {},
   "outputs": [],
   "source": []
  }
 ],
 "metadata": {
  "kernelspec": {
   "display_name": "Python 3.6",
   "language": "python",
   "name": "py36"
  },
  "language_info": {
   "codemirror_mode": {
    "name": "ipython",
    "version": 3
   },
   "file_extension": ".py",
   "mimetype": "text/x-python",
   "name": "python",
   "nbconvert_exporter": "python",
   "pygments_lexer": "ipython3",
   "version": "3.6.3"
  }
 },
 "nbformat": 4,
 "nbformat_minor": 4
}
