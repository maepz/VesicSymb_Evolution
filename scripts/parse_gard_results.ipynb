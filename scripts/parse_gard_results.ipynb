{
 "cells": [
  {
   "cell_type": "code",
   "execution_count": 1,
   "metadata": {},
   "outputs": [],
   "source": [
    "import pandas as pd\n",
    "import json\n",
    "import numpy as np\n",
    "from os import listdir\n",
    "from io import StringIO\n",
    "from Bio import Phylo\n",
    "import re"
   ]
  },
  {
   "cell_type": "code",
   "execution_count": 2,
   "metadata": {},
   "outputs": [
    {
     "name": "stdout",
     "output_type": "stream",
     "text": [
      "638\n"
     ]
    }
   ],
   "source": [
    "path=\"/home/maeperez/scratch/Clams/hyphy2.5/gard\"\n",
    "path_out=\"/home/maeperez/projects/def-bacc/maeperez/Clams/VesicSymb_Evolution/dowstream_analyses_and_data/\"\n",
    "\n",
    "genes=[]\n",
    "for file in listdir(path):\n",
    "    if file[-4:]==\"json\":\n",
    "        genes+=[str(file.split('.')[0])]\n",
    "genes=sorted(genes)\n",
    "print(len(genes))"
   ]
  },
  {
   "cell_type": "code",
   "execution_count": 3,
   "metadata": {},
   "outputs": [
    {
     "name": "stdout",
     "output_type": "stream",
     "text": [
      "number of genes that failed AICc test  143 / 638\n"
     ]
    }
   ],
   "source": [
    "with_recombination=[]\n",
    "for gene in genes:\n",
    "    remote_file = open(path+'/'+gene+'.GARD.json')\n",
    "    gard_json = json.load(remote_file)\n",
    "    \n",
    "    if 'improvements' not in gard_json.keys():\n",
    "        ### write gard_splits output for KH test (has to be done with the older version of hyphy? )\n",
    "        entry='\\n\\n'\n",
    "        entry+='-'.join(map(str,([i-1 for i in gard_json['breakpointData']['bps'][0]])))+'\\n'+gard_json['breakpointData']['tree']+'\\n'\n",
    "        with open(path+'/'+gene+'.gard_splits','w') as fa:\n",
    "            fa.write(entry) \n",
    "        continue\n",
    "        \n",
    "    else:\n",
    "#         max_bps=[gard_json['improvements'][bp]['breakpoints'] for bp in list(gard_json['improvements'].keys())[-1]][0]\n",
    "#         max_part=int(list(gard_json['improvements'].keys())[-1])+1\n",
    "\n",
    "        ### write gard_splits output for KH test (has to be done with the older version of hyphy? )\n",
    "        entry='\\n\\n'\n",
    "        for n in gard_json['breakpointData'].keys():\n",
    "            entry+='-'.join(map(str,([i-1 for i in gard_json['breakpointData'][str(n)]['bps'][0]])))+'\\n'+gard_json['breakpointData'][str(n)]['tree']+'\\n'\n",
    "        with open(path+'/'+gene+'.gard_splits','w') as fa:\n",
    "            fa.write(entry)   \n",
    "\n",
    "        best_AICc=sum([gard_json['improvements'][bp]['deltaAICc'] for bp in gard_json['improvements'].keys()])+gard_json['baselineScore']\n",
    "        AICc_ratio=float(gard_json['singleTreeAICc'])/best_AICc\n",
    "        if AICc_ratio>=1:\n",
    "            with_recombination+=[gene]\n",
    "print( 'number of genes that failed AICc test ',len(with_recombination),\"/\",len(genes))        "
   ]
  },
  {
   "cell_type": "code",
   "execution_count": 4,
   "metadata": {},
   "outputs": [],
   "source": [
    "with open(path_out+'core_genes_with_recomb_AICc.txt','w') as f:\n",
    "    f.write('\\n'.join(with_recombination))"
   ]
  },
  {
   "cell_type": "code",
   "execution_count": 5,
   "metadata": {},
   "outputs": [],
   "source": [
    "%%bash\n",
    "# Run KH test ...\n",
    "\n",
    "# sbatch run_array_KHtest.sl"
   ]
  },
  {
   "cell_type": "code",
   "execution_count": 6,
   "metadata": {},
   "outputs": [
    {
     "name": "stderr",
     "output_type": "stream",
     "text": [
      "/home/maeperez/virtualenv/py36/lib/python3.6/re.py:212: FutureWarning: split() requires a non-empty pattern match.\n",
      "  return _compile(pattern, flags).split(string, maxsplit)\n"
     ]
    },
    {
     "name": "stdout",
     "output_type": "stream",
     "text": [
      "number of genes that ran the KH test 636\n",
      "number of genes that failed KH test  101\n",
      "number of genes that failed AICc test  143\n"
     ]
    }
   ],
   "source": [
    "#### PARSE KH test results ####\n",
    "## GROUP1 ##\n",
    "path=\"/home/maeperez/scratch/Clams/hyphy2.5/gard/\"\n",
    "onlyfiles = [path+f for f in listdir(path) if f[-7:]=='.KHtest']\n",
    "kh=pd.DataFrame([],columns=['Gene','p0.01','p0.05','p0.1'])\n",
    "\n",
    "for i in range(len(onlyfiles)):\n",
    "# for i in [0]:\n",
    "#     print(i)\n",
    "    with open(onlyfiles[i]) as f:\n",
    "        gene=re.split('/|\\.|',onlyfiles[i])[-2]\n",
    "        lines=f.read().splitlines()\n",
    "        p001=np.nan\n",
    "        p005=np.nan\n",
    "        p01=np.nan\n",
    "        for n in reversed(range(len(lines))):\n",
    "            if lines[n][:6]=='At p =':\n",
    "#                 print lines[n-2]\n",
    "#                 print lines[n-1]\n",
    "#                 print lines[n]\n",
    "                try:\n",
    "                    p001= int(lines[n-2].split(' ')[-3])\n",
    "                    p005= int(lines[n-1].split(' ')[-3])\n",
    "                    p01= int(lines[n].split(' ')[-3])\n",
    "                except:\n",
    "                    p001= 0\n",
    "                    p005= 0\n",
    "                    p01= 0\n",
    "                break\n",
    "        newentry=dict(zip(['Gene','p0.01','p0.05','p0.1'],[gene,p001,p005,p01]))\n",
    "        kh=kh.append(newentry,ignore_index=True)\n",
    "\n",
    "print( 'number of genes that ran the KH test',len(sorted(kh[~(kh[['p0.01','p0.1','p0.05']].isna().all(axis=1))]['Gene'].values)))\n",
    "print( 'number of genes that failed KH test ',len(kh.loc[kh['p0.05']>0]))\n",
    "print( 'number of genes that failed AICc test ',len(with_recombination))\n",
    "# number of genes that failed KH test  152\n",
    "# number of genes that failed AICc test  143"
   ]
  },
  {
   "cell_type": "code",
   "execution_count": 7,
   "metadata": {},
   "outputs": [
    {
     "data": {
      "text/html": [
       "<div>\n",
       "<style scoped>\n",
       "    .dataframe tbody tr th:only-of-type {\n",
       "        vertical-align: middle;\n",
       "    }\n",
       "\n",
       "    .dataframe tbody tr th {\n",
       "        vertical-align: top;\n",
       "    }\n",
       "\n",
       "    .dataframe thead th {\n",
       "        text-align: right;\n",
       "    }\n",
       "</style>\n",
       "<table border=\"1\" class=\"dataframe\">\n",
       "  <thead>\n",
       "    <tr style=\"text-align: right;\">\n",
       "      <th></th>\n",
       "      <th>Gene</th>\n",
       "      <th>p0.01</th>\n",
       "      <th>p0.05</th>\n",
       "      <th>p0.1</th>\n",
       "      <th>AICctest</th>\n",
       "    </tr>\n",
       "  </thead>\n",
       "  <tbody>\n",
       "    <tr>\n",
       "      <th>0</th>\n",
       "      <td>Rmag_0947</td>\n",
       "      <td>1</td>\n",
       "      <td>1</td>\n",
       "      <td>1</td>\n",
       "      <td>0</td>\n",
       "    </tr>\n",
       "    <tr>\n",
       "      <th>1</th>\n",
       "      <td>Rmag_0113</td>\n",
       "      <td>0</td>\n",
       "      <td>0</td>\n",
       "      <td>0</td>\n",
       "      <td>1</td>\n",
       "    </tr>\n",
       "    <tr>\n",
       "      <th>2</th>\n",
       "      <td>Rmag_0834</td>\n",
       "      <td>1</td>\n",
       "      <td>1</td>\n",
       "      <td>1</td>\n",
       "      <td>0</td>\n",
       "    </tr>\n",
       "    <tr>\n",
       "      <th>3</th>\n",
       "      <td>Rmag_0188</td>\n",
       "      <td>0</td>\n",
       "      <td>0</td>\n",
       "      <td>0</td>\n",
       "      <td>0</td>\n",
       "    </tr>\n",
       "    <tr>\n",
       "      <th>4</th>\n",
       "      <td>Rmag_0592</td>\n",
       "      <td>0</td>\n",
       "      <td>0</td>\n",
       "      <td>0</td>\n",
       "      <td>1</td>\n",
       "    </tr>\n",
       "    <tr>\n",
       "      <th>...</th>\n",
       "      <td>...</td>\n",
       "      <td>...</td>\n",
       "      <td>...</td>\n",
       "      <td>...</td>\n",
       "      <td>...</td>\n",
       "    </tr>\n",
       "    <tr>\n",
       "      <th>633</th>\n",
       "      <td>Rmag_0837</td>\n",
       "      <td>1</td>\n",
       "      <td>1</td>\n",
       "      <td>1</td>\n",
       "      <td>0</td>\n",
       "    </tr>\n",
       "    <tr>\n",
       "      <th>634</th>\n",
       "      <td>Rmag_0944</td>\n",
       "      <td>0</td>\n",
       "      <td>0</td>\n",
       "      <td>0</td>\n",
       "      <td>0</td>\n",
       "    </tr>\n",
       "    <tr>\n",
       "      <th>635</th>\n",
       "      <td>Rmag_0285</td>\n",
       "      <td>0</td>\n",
       "      <td>0</td>\n",
       "      <td>0</td>\n",
       "      <td>0</td>\n",
       "    </tr>\n",
       "    <tr>\n",
       "      <th>636</th>\n",
       "      <td>Rmag_0604</td>\n",
       "      <td>0</td>\n",
       "      <td>0</td>\n",
       "      <td>0</td>\n",
       "      <td>0</td>\n",
       "    </tr>\n",
       "    <tr>\n",
       "      <th>637</th>\n",
       "      <td>Rmag_0877</td>\n",
       "      <td>0</td>\n",
       "      <td>1</td>\n",
       "      <td>1</td>\n",
       "      <td>0</td>\n",
       "    </tr>\n",
       "  </tbody>\n",
       "</table>\n",
       "<p>638 rows × 5 columns</p>\n",
       "</div>"
      ],
      "text/plain": [
       "          Gene p0.01 p0.05 p0.1  AICctest\n",
       "0    Rmag_0947     1     1    1         0\n",
       "1    Rmag_0113     0     0    0         1\n",
       "2    Rmag_0834     1     1    1         0\n",
       "3    Rmag_0188     0     0    0         0\n",
       "4    Rmag_0592     0     0    0         1\n",
       "..         ...   ...   ...  ...       ...\n",
       "633  Rmag_0837     1     1    1         0\n",
       "634  Rmag_0944     0     0    0         0\n",
       "635  Rmag_0285     0     0    0         0\n",
       "636  Rmag_0604     0     0    0         0\n",
       "637  Rmag_0877     0     1    1         0\n",
       "\n",
       "[638 rows x 5 columns]"
      ]
     },
     "execution_count": 7,
     "metadata": {},
     "output_type": "execute_result"
    }
   ],
   "source": [
    "kh['AICctest']=0\n",
    "kh.loc[kh['Gene'].isin(with_recombination),'AICctest']=1\n",
    "kh"
   ]
  },
  {
   "cell_type": "code",
   "execution_count": 8,
   "metadata": {},
   "outputs": [
    {
     "name": "stdout",
     "output_type": "stream",
     "text": [
      "2\n"
     ]
    },
    {
     "data": {
      "text/plain": [
       "'207,254'"
      ]
     },
     "execution_count": 8,
     "metadata": {},
     "output_type": "execute_result"
    }
   ],
   "source": [
    "# kh.to_csv(path_out+'gard_results.txt')\n",
    "path_to_files='../mauve_alignments/fna/'\n",
    "with open(path_to_files+'filelist_nopseudo_638','r') as f:\n",
    "    lines=[file[8:-4] for file in f.read().splitlines()]\n",
    "\n",
    "failed_kh=sorted(kh[kh[['p0.01','p0.1','p0.05']].isna().all(axis=1)]['Gene'].values)\n",
    "failed_kh_idx=[lines.index(gene)+1 for gene in failed_kh]\n",
    "print(len(failed_kh))\n",
    "# print('\\n'.join([' '.join(map(str,item)) for item in list(zip(failed_kh_idx,failed_kh))]))\n",
    "','.join(map(str,failed_kh_idx))\n"
   ]
  },
  {
   "cell_type": "code",
   "execution_count": 13,
   "metadata": {},
   "outputs": [
    {
     "name": "stdout",
     "output_type": "stream",
     "text": [
      "recomb with AICc only 116\n",
      "recomb with KH only 95\n",
      "recomb with KH and AICc 27\n"
     ]
    }
   ],
   "source": [
    "recomb_KH=kh.loc[kh['p0.05']>0]['Gene']\n",
    "print('recomb with AICc only',len(set(with_recombination)-set(recomb_KH)))\n",
    "print('recomb with KH only',len(set(recomb_KH)-set(with_recombination)))\n",
    "print('recomb with KH and AICc',len(set(recomb_KH).intersection(set(with_recombination))))\n",
    "\n"
   ]
  },
  {
   "cell_type": "code",
   "execution_count": 39,
   "metadata": {},
   "outputs": [
    {
     "name": "stdout",
     "output_type": "stream",
     "text": [
      "0/508 genes show evidence for recombination\n"
     ]
    }
   ],
   "source": [
    "print('%s/%d genes show evidence for recombination' % (len(with_recombination),len(genes)))\n",
    "# 85/389 genes show evidence for recombination: hyphy2.5"
   ]
  },
  {
   "cell_type": "code",
   "execution_count": 50,
   "metadata": {},
   "outputs": [
    {
     "name": "stdout",
     "output_type": "stream",
     "text": [
      "genes in common between older version and hyphy2.5\n",
      "351\n",
      "genes with signficant recomb in hyphy2.5 but not older version\n",
      "81\n",
      "genes with significant recomb older version but not hyphy 2.5\n",
      "30\n",
      "genes with significant recomb in both version\n",
      "4\n"
     ]
    }
   ],
   "source": [
    "df=pd.read_csv('/home/maeperez/projects/def-bacc/maeperez/Clams/VesicSymb_Evolution/dowstream_analyses_and_data_ms1/KHtest_results.txt',sep=',',header=0,index_col=0)\n",
    "df[df['Gene'].isin(with_recombination) & df['p0.05']>0]\n",
    "\n",
    "print('genes in common between older version and hyphy2.5')\n",
    "print(len(set(genes).intersection(set(df['Gene'].values))))\n",
    "print('genes with signficant recomb in hyphy2.5 but not older version')\n",
    "print(len(set(with_recombination)-set(df[df['p0.05']>0]['Gene'].values)))\n",
    "print('genes with significant recomb older version but not hyphy 2.5')\n",
    "print(len(set(df[df['Gene'].isin(genes) & df['p0.05']>0]['Gene'].values)-set(with_recombination)))\n",
    "print('genes with significant recomb in both version')\n",
    "print(len(set(with_recombination).intersection(set(df[df['p0.05']>0]['Gene'].values))))\n"
   ]
  },
  {
   "cell_type": "code",
   "execution_count": 62,
   "metadata": {},
   "outputs": [
    {
     "name": "stdout",
     "output_type": "stream",
     "text": [
      "14\n"
     ]
    }
   ],
   "source": [
    "print(len('.GTR.gard.json'))"
   ]
  },
  {
   "cell_type": "code",
   "execution_count": 56,
   "metadata": {},
   "outputs": [
    {
     "name": "stdout",
     "output_type": "stream",
     "text": [
      "/home/maeperez/scratch/Clams/hyphy2.5/gard/Rmag_0003_1.tree\n"
     ]
    }
   ],
   "source": [
    "print(path+'/'+gene+'_'+str(n)+'.tree')"
   ]
  },
  {
   "cell_type": "code",
   "execution_count": null,
   "metadata": {},
   "outputs": [],
   "source": []
  }
 ],
 "metadata": {
  "kernelspec": {
   "display_name": "Python 3.6",
   "language": "python",
   "name": "py36"
  },
  "language_info": {
   "codemirror_mode": {
    "name": "ipython",
    "version": 3
   },
   "file_extension": ".py",
   "mimetype": "text/x-python",
   "name": "python",
   "nbconvert_exporter": "python",
   "pygments_lexer": "ipython3",
   "version": "3.6.3"
  }
 },
 "nbformat": 4,
 "nbformat_minor": 4
}
