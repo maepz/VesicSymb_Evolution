{
 "cells": [
  {
   "cell_type": "code",
   "execution_count": 1,
   "metadata": {},
   "outputs": [],
   "source": [
    "import pandas as pd\n",
    "import json\n",
    "import numpy as np\n",
    "from os import listdir\n",
    "from io import StringIO\n",
    "from Bio import Phylo, AlignIO\n",
    "from Bio.Alphabet import generic_dna\n",
    "import re\n",
    "\n",
    "path=\"/home/maeperez/scratch/Clams/hyphy2.5/gard_LCB2/\"\n",
    "aln_breakdown='../mauve_alignments/core_ALL_alignments/'\n",
    "path_out=\"/home/maeperez/projects/def-bacc/maeperez/Clams/VesicSymb_Evolution/dowstream_analyses_and_data/\"\n",
    "path_to_files='../mauve_alignments/core_ALL_alignments/'\n"
   ]
  },
  {
   "cell_type": "code",
   "execution_count": 2,
   "metadata": {},
   "outputs": [
    {
     "name": "stdout",
     "output_type": "stream",
     "text": [
      "716\n"
     ]
    }
   ],
   "source": [
    "\n",
    "genes=[]\n",
    "for file in listdir(path):\n",
    "    if file[-4:]==\"json\":\n",
    "        genes+=[str(file.split('.')[0])]\n",
    "genes=sorted(genes)\n",
    "print(len(genes))\n"
   ]
  },
  {
   "cell_type": "code",
   "execution_count": 3,
   "metadata": {
    "scrolled": true
   },
   "outputs": [
    {
     "name": "stdout",
     "output_type": "stream",
     "text": [
      "0\n",
      "\n"
     ]
    },
    {
     "data": {
      "text/plain": [
       "''"
      ]
     },
     "execution_count": 3,
     "metadata": {},
     "output_type": "execute_result"
    }
   ],
   "source": [
    "path_to_files='../mauve_alignments/core_ALL_alignments/'\n",
    "with open(path_to_files+'filelist','r') as f:\n",
    "    lines=[file[8:-6] for file in f.read().splitlines()]\n",
    "\n",
    "failed_gard=sorted(set(lines)-set(genes))\n",
    "failed_gard_idx=[lines.index(gene)+1 for gene in failed_gard]\n",
    "print(len(failed_gard))\n",
    "print('\\n'.join([' '.join(map(str,item)) for item in list(zip(failed_gard_idx,failed_gard))]))\n",
    "','.join(map(str,failed_gard_idx))\n"
   ]
  },
  {
   "cell_type": "code",
   "execution_count": 4,
   "metadata": {},
   "outputs": [],
   "source": [
    "failed_gard=['LCB_054', 'LCB_608']"
   ]
  },
  {
   "cell_type": "code",
   "execution_count": 5,
   "metadata": {},
   "outputs": [
    {
     "name": "stdout",
     "output_type": "stream",
     "text": [
      "number of genes that failed AICc test  65 / 716\n"
     ]
    }
   ],
   "source": [
    "filenames=[]\n",
    "with_recombination=[]\n",
    "for gene in genes:\n",
    "    remote_file = open(path+gene+'.GARD.json')\n",
    "    gard_json = json.load(remote_file)\n",
    "    breakpoints=[0]+[gard_json['input']['number of sites']]\n",
    "    \n",
    "    if 'improvements' not in gard_json.keys():\n",
    "        pass\n",
    "        \n",
    "    else: \n",
    "        best_AICc=sum([gard_json['improvements'][bp]['deltaAICc'] for bp in gard_json['improvements'].keys()])+gard_json['baselineScore']\n",
    "        AICc_ratio=float(gard_json['singleTreeAICc'])/best_AICc\n",
    "        if AICc_ratio>=1:\n",
    "            with_recombination+=[gene]\n",
    "            \n",
    "            ### Find all puttive breakpoints\n",
    "            breakpoints=[0]+[gard_json['breakpointData'][k]['bps'][0][1] for k in gard_json['breakpointData'].keys()]\n",
    "#             print(breakpoints)\n",
    "            \n",
    "    ### break alignment at all putative breakpoints ###\n",
    "    alignment = AlignIO.read(path_to_files+gene+'.fasta', \"fasta\",alphabet=generic_dna)\n",
    "    start=breakpoints.pop(0)\n",
    "    sub=0\n",
    "    while len(breakpoints)>0:\n",
    "        sub+=1\n",
    "        end=breakpoints.pop(0)\n",
    "        new_aln= alignment[:,start:end]\n",
    "\n",
    "        for record in new_aln:\n",
    "            record.id = record.id.split('/')[-2].split('_')[0].replace('.gbk','')\n",
    "\n",
    "        new_aln.sort()\n",
    "        filename=gene+'_'+str(sub)+'_'+str(start)+'to'+str(end)+'.nex'\n",
    "        filenames+=filename\n",
    "\n",
    "        AlignIO.write([new_aln],aln_breakdown+'nex2/'+filename, \"nexus\")\n",
    "#         print(filename)\n",
    "\n",
    "        start=end\n",
    "\n",
    "print( 'number of genes that failed AICc test ',len(with_recombination),\"/\",len(genes))  # 65 / 714   #106/716   "
   ]
  },
  {
   "cell_type": "code",
   "execution_count": 4,
   "metadata": {},
   "outputs": [],
   "source": [
    "# with open(path_out+'core_LCB_with_recomb_AICc.txt','w') as f:\n",
    "#     f.write('\\n'.join(with_recombination))"
   ]
  },
  {
   "cell_type": "code",
   "execution_count": 15,
   "metadata": {},
   "outputs": [
    {
     "name": "stdout",
     "output_type": "stream",
     "text": [
      "LCB_189_1_0to9425.nex\n",
      "888\n"
     ]
    },
    {
     "data": {
      "text/plain": [
       "9425"
      ]
     },
     "execution_count": 15,
     "metadata": {},
     "output_type": "execute_result"
    }
   ],
   "source": [
    "LCBfrags=[]\n",
    "nex1=[]\n",
    "for file in listdir(aln_breakdown+'nex/'):\n",
    "    if file=='filelist':\n",
    "        continue\n",
    "    nex1+=[file]\n",
    "    fraglen=int(file.split('_')[-1].replace('.nex','').split('to')[1])-int(file.split('_')[-1].replace('.nex','').split('to')[0])\n",
    "    LCBfrags+=[fraglen]\n",
    "    if fraglen==9425:\n",
    "        print(file)\n",
    "\n",
    "print(len(LCBfrags))\n",
    "      \n",
    "sorted(LCBfrags)[::-1][0]"
   ]
  },
  {
   "cell_type": "code",
   "execution_count": 6,
   "metadata": {},
   "outputs": [
    {
     "name": "stdout",
     "output_type": "stream",
     "text": [
      "LCB_189_1_0to9425.nex\n",
      "793\n"
     ]
    },
    {
     "data": {
      "text/plain": [
       "9425"
      ]
     },
     "execution_count": 6,
     "metadata": {},
     "output_type": "execute_result"
    }
   ],
   "source": [
    "LCBfrags=[]\n",
    "nex2=[]\n",
    "for file in listdir(aln_breakdown+'nex2/'):\n",
    "    if file=='rerun_mb_filelist':\n",
    "        continue\n",
    "    nex2+=[file]\n",
    "    fraglen=int(file.split('_')[-1].replace('.nex','').split('to')[1])-int(file.split('_')[-1].replace('.nex','').split('to')[0])\n",
    "    LCBfrags+=[fraglen]\n",
    "    if fraglen==9425:\n",
    "        print(file)\n",
    "\n",
    "print(len(LCBfrags))\n",
    "      \n",
    "sorted(LCBfrags)[::-1][0]"
   ]
  },
  {
   "cell_type": "code",
   "execution_count": null,
   "metadata": {},
   "outputs": [],
   "source": [
    "### Files that dont have to be rerun because same as previous; should just move \n",
    "from shutil import copyfile\n",
    "print(len([file for file in nex2 if file in nex1]))\n",
    "unchanged=[file.replace('.nex','.in') for file in nex2 if file in nex1]\n",
    "# print(unchanged)\n",
    "for file in unchanged:\n",
    "    copyfile('/home/maeperez/scratch/Clams/bucky/mrbayes/'+file,'/home/maeperez/scratch/Clams/bucky2/mrbayes/'+file)"
   ]
  },
  {
   "cell_type": "code",
   "execution_count": 8,
   "metadata": {},
   "outputs": [
    {
     "ename": "NameError",
     "evalue": "name 'nex1' is not defined",
     "output_type": "error",
     "traceback": [
      "\u001b[0;31m---------------------------------------------------------------------------\u001b[0m",
      "\u001b[0;31mNameError\u001b[0m                                 Traceback (most recent call last)",
      "\u001b[0;32m<ipython-input-8-198b34e07292>\u001b[0m in \u001b[0;36m<module>\u001b[0;34m\u001b[0m\n\u001b[1;32m      1\u001b[0m \u001b[0;31m### Files that have to be redone should be written in filelist\u001b[0m\u001b[0;34m\u001b[0m\u001b[0;34m\u001b[0m\u001b[0m\n\u001b[0;32m----> 2\u001b[0;31m \u001b[0mrerun_mb\u001b[0m\u001b[0;34m=\u001b[0m\u001b[0;34m[\u001b[0m\u001b[0mfile\u001b[0m \u001b[0;32mfor\u001b[0m \u001b[0mfile\u001b[0m \u001b[0;32min\u001b[0m \u001b[0mnex2\u001b[0m \u001b[0;32mif\u001b[0m \u001b[0mfile\u001b[0m \u001b[0;32mnot\u001b[0m \u001b[0;32min\u001b[0m \u001b[0mnex1\u001b[0m\u001b[0;34m]\u001b[0m\u001b[0;34m\u001b[0m\u001b[0m\n\u001b[0m\u001b[1;32m      3\u001b[0m \u001b[0mprint\u001b[0m\u001b[0;34m(\u001b[0m\u001b[0mlen\u001b[0m\u001b[0;34m(\u001b[0m\u001b[0mrerun_mb\u001b[0m\u001b[0;34m)\u001b[0m\u001b[0;34m)\u001b[0m\u001b[0;34m\u001b[0m\u001b[0m\n\u001b[1;32m      4\u001b[0m \u001b[0;31m# with open(aln_breakdown+'nex2/rerun_mb_filelist','w') as fa:\u001b[0m\u001b[0;34m\u001b[0m\u001b[0;34m\u001b[0m\u001b[0m\n\u001b[1;32m      5\u001b[0m \u001b[0;31m#     fa.write('\\n'.join(rerun_mb))\u001b[0m\u001b[0;34m\u001b[0m\u001b[0;34m\u001b[0m\u001b[0m\n",
      "\u001b[0;32m<ipython-input-8-198b34e07292>\u001b[0m in \u001b[0;36m<listcomp>\u001b[0;34m(.0)\u001b[0m\n\u001b[1;32m      1\u001b[0m \u001b[0;31m### Files that have to be redone should be written in filelist\u001b[0m\u001b[0;34m\u001b[0m\u001b[0;34m\u001b[0m\u001b[0m\n\u001b[0;32m----> 2\u001b[0;31m \u001b[0mrerun_mb\u001b[0m\u001b[0;34m=\u001b[0m\u001b[0;34m[\u001b[0m\u001b[0mfile\u001b[0m \u001b[0;32mfor\u001b[0m \u001b[0mfile\u001b[0m \u001b[0;32min\u001b[0m \u001b[0mnex2\u001b[0m \u001b[0;32mif\u001b[0m \u001b[0mfile\u001b[0m \u001b[0;32mnot\u001b[0m \u001b[0;32min\u001b[0m \u001b[0mnex1\u001b[0m\u001b[0;34m]\u001b[0m\u001b[0;34m\u001b[0m\u001b[0m\n\u001b[0m\u001b[1;32m      3\u001b[0m \u001b[0mprint\u001b[0m\u001b[0;34m(\u001b[0m\u001b[0mlen\u001b[0m\u001b[0;34m(\u001b[0m\u001b[0mrerun_mb\u001b[0m\u001b[0;34m)\u001b[0m\u001b[0;34m)\u001b[0m\u001b[0;34m\u001b[0m\u001b[0m\n\u001b[1;32m      4\u001b[0m \u001b[0;31m# with open(aln_breakdown+'nex2/rerun_mb_filelist','w') as fa:\u001b[0m\u001b[0;34m\u001b[0m\u001b[0;34m\u001b[0m\u001b[0m\n\u001b[1;32m      5\u001b[0m \u001b[0;31m#     fa.write('\\n'.join(rerun_mb))\u001b[0m\u001b[0;34m\u001b[0m\u001b[0;34m\u001b[0m\u001b[0m\n",
      "\u001b[0;31mNameError\u001b[0m: name 'nex1' is not defined"
     ]
    }
   ],
   "source": [
    "### Files that have to be redone should be written in filelist\n",
    "rerun_mb=[file for file in nex2 if file not in nex1]\n",
    "print(len(rerun_mb))\n",
    "with open(aln_breakdown+'nex2/rerun_mb_filelist','w') as fa:\n",
    "    fa.write('\\n'.join(rerun_mb))"
   ]
  },
  {
   "cell_type": "code",
   "execution_count": 7,
   "metadata": {},
   "outputs": [
    {
     "data": {
      "text/plain": [
       "<matplotlib.axes._subplots.AxesSubplot at 0x2ba9212fe630>"
      ]
     },
     "execution_count": 7,
     "metadata": {},
     "output_type": "execute_result"
    },
    {
     "data": {
      "image/png": "[encoded data removed]",
      "text/plain": [
       "<Figure size 432x288 with 1 Axes>"
      ]
     },
     "metadata": {
      "needs_background": "light"
     },
     "output_type": "display_data"
    }
   ],
   "source": [
    "import importlib\n",
    "import matplotlib.pyplot as plt\n",
    "import seaborn as sns\n",
    "importlib.reload(sns)\n",
    "\n",
    "# importlib.reload(plt)\n",
    "# Set figure size with matplotlib\n",
    "# plt.figure(figsize=(10,6))\n",
    " \n",
    "# Create scatter plot\n",
    "sns.histplot(LCBfrags,log_scale=True)\n",
    "# sns.histplot(LCBfrags)\n"
   ]
  },
  {
   "cell_type": "code",
   "execution_count": null,
   "metadata": {},
   "outputs": [],
   "source": []
  }
 ],
 "metadata": {
  "kernelspec": {
   "display_name": "Python 3.6",
   "language": "python",
   "name": "py36"
  },
  "language_info": {
   "codemirror_mode": {
    "name": "ipython",
    "version": 3
   },
   "file_extension": ".py",
   "mimetype": "text/x-python",
   "name": "python",
   "nbconvert_exporter": "python",
   "pygments_lexer": "ipython3",
   "version": "3.6.3"
  }
 },
 "nbformat": 4,
 "nbformat_minor": 4
}
