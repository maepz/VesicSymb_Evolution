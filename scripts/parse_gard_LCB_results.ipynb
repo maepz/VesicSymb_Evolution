{
 "cells": [
  {
   "cell_type": "code",
   "execution_count": 28,
   "metadata": {},
   "outputs": [],
   "source": [
    "import pandas as pd\n",
    "import json\n",
    "import numpy as np\n",
    "from os import listdir\n",
    "from io import StringIO\n",
    "from Bio import Phylo, AlignIO\n",
    "from Bio.Alphabet import generic_dna\n",
    "import re\n",
    "\n",
    "path=\"/home/maeperez/scratch/Clams/hyphy2.5/gard_LCB/\"\n",
    "aln_breakdown='../mauve_alignments/core_ALL_alignments/'\n",
    "path_out=\"/home/maeperez/projects/def-bacc/maeperez/Clams/VesicSymb_Evolution/dowstream_analyses_and_data/\"\n"
   ]
  },
  {
   "cell_type": "code",
   "execution_count": 29,
   "metadata": {},
   "outputs": [
    {
     "name": "stdout",
     "output_type": "stream",
     "text": [
      "715\n"
     ]
    }
   ],
   "source": [
    "\n",
    "genes=[]\n",
    "for file in listdir(path):\n",
    "    if file[-4:]==\"json\":\n",
    "        genes+=[str(file.split('.')[0])]\n",
    "genes=sorted(genes)\n",
    "print(len(genes))\n"
   ]
  },
  {
   "cell_type": "code",
   "execution_count": 27,
   "metadata": {
    "scrolled": true
   },
   "outputs": [
    {
     "name": "stdout",
     "output_type": "stream",
     "text": [
      "1\n",
      "592 LCB_592\n"
     ]
    },
    {
     "data": {
      "text/plain": [
       "'592'"
      ]
     },
     "execution_count": 27,
     "metadata": {},
     "output_type": "execute_result"
    }
   ],
   "source": [
    "path_to_files='../mauve_alignments/core_ALL_alignments/'\n",
    "with open(path_to_files+'filelist','r') as f:\n",
    "    lines=[file[8:-6] for file in f.read().splitlines()]\n",
    "\n",
    "failed_gard=sorted(set(lines)-set(genes))\n",
    "failed_gard_idx=[lines.index(gene)+1 for gene in failed_gard]\n",
    "print(len(failed_gard))\n",
    "print('\\n'.join([' '.join(map(str,item)) for item in list(zip(failed_gard_idx,failed_gard))]))\n",
    "','.join(map(str,failed_gard_idx))\n"
   ]
  },
  {
   "cell_type": "code",
   "execution_count": null,
   "metadata": {},
   "outputs": [],
   "source": []
  },
  {
   "cell_type": "code",
   "execution_count": 17,
   "metadata": {},
   "outputs": [
    {
     "name": "stdout",
     "output_type": "stream",
     "text": [
      "[0, 68, 1154]\n",
      "LCB_002_1_0to68.nex\n",
      "LCB_002_2_68to1154.nex\n",
      "number of genes that failed AICc test  1 / 711\n"
     ]
    }
   ],
   "source": [
    "filenames=[]\n",
    "with_recombination=[]\n",
    "for gene in [genes[1],genes[555]]:\n",
    "    remote_file = open(path+gene+'.GARD.json')\n",
    "    gard_json = json.load(remote_file)\n",
    "    breakpoints=[0]+[gard_json['input']['number of sites']]\n",
    "    \n",
    "    if 'improvements' not in gard_json.keys():\n",
    "        continue\n",
    "        \n",
    "    else: \n",
    "        best_AICc=sum([gard_json['improvements'][bp]['deltaAICc'] for bp in gard_json['improvements'].keys()])+gard_json['baselineScore']\n",
    "        AICc_ratio=float(gard_json['singleTreeAICc'])/best_AICc\n",
    "        if AICc_ratio>=1:\n",
    "            with_recombination+=[gene]\n",
    "            \n",
    "            ### Find all puttive breakpoints\n",
    "            breakpoints=[0]+[gard_json['breakpointData'][k]['bps'][0][1] for k in gard_json['breakpointData'].keys()]\n",
    "            print(breakpoints)\n",
    "            \n",
    "    ### break alignment at all putative breakpoints ###\n",
    "    alignment = AlignIO.read(path_to_files+gene+'.fasta', \"fasta\",alphabet=generic_dna)\n",
    "    start=breakpoints.pop(0)\n",
    "    sub=0\n",
    "    while len(breakpoints)>0:\n",
    "        sub+=1\n",
    "        end=breakpoints.pop(0)\n",
    "        new_aln= alignment[:,start:end]\n",
    "\n",
    "        for record in new_aln:\n",
    "            record.id = record.id.split('/')[-2].split('_')[0].replace('.gbk','')\n",
    "\n",
    "        new_aln.sort()\n",
    "        filename=gene+'_'+str(sub)+'_'+str(start)+'to'+str(end)+'.nex'\n",
    "        filenames+=filename\n",
    "\n",
    "        AlignIO.write([new_aln],aln_breakdown+'nex/'+filename, \"nexus\")\n",
    "        print(filename)\n",
    "\n",
    "        start=end\n",
    "\n",
    "print( 'number of genes that failed AICc test ',len(with_recombination),\"/\",len(genes))        "
   ]
  },
  {
   "cell_type": "code",
   "execution_count": 4,
   "metadata": {},
   "outputs": [],
   "source": [
    "# with open(path_out+'core_LCB_with_recomb_AICc.txt','w') as f:\n",
    "#     f.write('\\n'.join(with_recombination))"
   ]
  }
 ],
 "metadata": {
  "kernelspec": {
   "display_name": "Python 3.6",
   "language": "python",
   "name": "py36"
  },
  "language_info": {
   "codemirror_mode": {
    "name": "ipython",
    "version": 3
   },
   "file_extension": ".py",
   "mimetype": "text/x-python",
   "name": "python",
   "nbconvert_exporter": "python",
   "pygments_lexer": "ipython3",
   "version": "3.6.3"
  }
 },
 "nbformat": 4,
 "nbformat_minor": 4
}
