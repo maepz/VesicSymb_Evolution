{
 "cells": [
  {
   "cell_type": "code",
   "execution_count": 17,
   "metadata": {},
   "outputs": [],
   "source": [
    "import os\n",
    "from os import listdir\n",
    "# from os.path import isfile, join\n",
    "# import numpy as np\n",
    "import subprocess\n",
    "import sys\n",
    "from Bio import AlignIO,SeqIO\n",
    "from Bio.Align.Applications import MuscleCommandline\n",
    "from Bio.Align import MultipleSeqAlignment\n",
    "from Bio.Alphabet import Gapped,IUPAC,generic_dna\n",
    "from io import StringIO\n",
    "from Bio.Seq import Seq\n",
    "from Bio.SeqRecord import SeqRecord\n",
    "from Bio.codonalign import build\n",
    "from Bio.Data.CodonTable import generic_by_id,unambiguous_dna_by_id\n"
   ]
  },
  {
   "cell_type": "code",
   "execution_count": 2,
   "metadata": {},
   "outputs": [
    {
     "data": {
      "text/plain": [
       "888"
      ]
     },
     "execution_count": 2,
     "metadata": {},
     "output_type": "execute_result"
    }
   ],
   "source": [
    "path_to_files='/home/maeperez/projects/def-bacc/maeperez/Clams/VesicSymb_Evolution/mauve_alignments/core_ALL_alignments/nex/'\n",
    "with open(path_to_files+'filelist','r') as f:\n",
    "    lines=[file[:-4] for file in f.read().splitlines()]\n",
    "# lines\n",
    "len(set(lines)) "
   ]
  },
  {
   "cell_type": "code",
   "execution_count": 4,
   "metadata": {},
   "outputs": [],
   "source": [
    "files=sorted([file for file in listdir('/home/maeperez/scratch/Clams/bucky/mrbayes/') if file[-3:]=='.in'])\n",
    "bad_ins=[]\n",
    "passed_mcmc=[]\n",
    "for file in files:\n",
    "    with open('/home/maeperez/scratch/Clams/bucky/mrbayes/'+file,'r') as f:\n",
    "        nex=sum([int(line.split(';')[1]) for line in f.read().splitlines() if len(line.split(';'))==2 and line[-1:]!=';'])\n",
    "        if nex!=2000:\n",
    "#             print(file[:-3], nex)\n",
    "            bad_ins+=[file[:-3]]\n",
    "        else:\n",
    "            passed_mcmc+=[file[:-3]]\n",
    "            "
   ]
  },
  {
   "cell_type": "code",
   "execution_count": 5,
   "metadata": {},
   "outputs": [
    {
     "name": "stdout",
     "output_type": "stream",
     "text": [
      "0\n",
      "\n"
     ]
    },
    {
     "data": {
      "text/plain": [
       "''"
      ]
     },
     "execution_count": 5,
     "metadata": {},
     "output_type": "execute_result"
    }
   ],
   "source": [
    "\n",
    "failed_mcmc=sorted(set(lines)-set(passed_mcmc))\n",
    "print(len(failed_mcmc))\n",
    "failed_mcmc_idx=[lines.index(gene)+1 for gene in sorted(failed_mcmc)]\n",
    "\n",
    "print('\\n'.join([' '.join(map(str,item)) for item in list(zip(failed_mcmc_idx,failed_mcmc))]))\n",
    "','.join(map(str,failed_mcmc_idx))"
   ]
  },
  {
   "cell_type": "code",
   "execution_count": 23,
   "metadata": {},
   "outputs": [
    {
     "name": "stdout",
     "output_type": "stream",
     "text": [
      "2\n",
      "2\n",
      "1\n",
      "1\n",
      "1\n",
      "2\n",
      "2\n",
      "1\n",
      "1\n",
      "1\n",
      "2\n",
      "1\n",
      "2\n",
      "2\n",
      "2\n",
      "1\n",
      "2\n",
      "2\n",
      "1\n",
      "2\n",
      "2\n",
      "2\n",
      "2\n",
      "2\n",
      "2\n",
      "2\n",
      "1\n",
      "1\n",
      "1\n",
      "1\n",
      "2\n",
      "2\n",
      "2\n",
      "1\n",
      "1\n",
      "2\n",
      "2\n",
      "1\n",
      "2\n",
      "1\n",
      "1\n",
      "1\n",
      "2\n",
      "2\n",
      "2\n",
      "1\n",
      "1\n",
      "2\n",
      "2\n",
      "1\n",
      "2\n",
      "1\n",
      "2\n",
      "2\n",
      "1\n",
      "2\n",
      "2\n",
      "2\n",
      "2\n"
     ]
    }
   ],
   "source": [
    "from Bio import SeqIO\n",
    "inputfile='../genomes/R.fausta.gbk'\n",
    "genome_name='R.fausta'\n",
    "cds_records=[]\n",
    "for record in SeqIO.parse(inputfile,'genbank'):\n",
    "    for feature in record.features:\n",
    "        if feature.type != 'CDS': continue\n",
    "        lc=feature.qualifiers['locus_tag'][0]\n",
    "        cds=feature.extract(record)\n",
    "        if len(cds)%3 != 0:\n",
    "#             print(feature)\n",
    "#             print(record[feature.location.start:feature.location.end].translate('Bacterial'))\n",
    "            cds=record[feature.location.start:feature.location.end]\n",
    "            print(len(cds)%3)\n",
    "        cds.id=genome_name+'|'+lc\n",
    "        cds.description=''\n",
    "        cds.name=''\n",
    "        cds_records+=[cds]\n",
    "# SeqIO.write(cds_records,'/home/maeperez/scratch/Clams/codon_bias/R.fausta2.cds.fasta','fasta')"
   ]
  },
  {
   "cell_type": "code",
   "execution_count": 28,
   "metadata": {},
   "outputs": [
    {
     "name": "stdout",
     "output_type": "stream",
     "text": [
      "495\n"
     ]
    }
   ],
   "source": [
    "path_to_files='/home/maeperez/projects/def-bacc/maeperez/Clams/VesicSymb_Evolution/mauve_alignments/fna/'\n",
    "\n",
    "with open('/home/maeperez/projects/def-bacc/maeperez/Clams/VesicSymb_Evolution/dowstream_analyses_and_data/core_genes_with_recomb_AICc.txt','r') as f:\n",
    "    bad=f.read().splitlines()\n",
    "gene_len=[]\n",
    "\n",
    "with open('/home/maeperez/projects/def-bacc/maeperez/Clams/VesicSymb_Evolution/mauve_alignments/fna/filelist_nopseudo_638','r') as f:\n",
    "    files=f.read().splitlines()\n",
    "# print(files)\n",
    "gene_len=[]\n",
    "\n",
    "\n",
    "for file in files:\n",
    "    if file[:8]=='aligned_' and file[-4:]=='.fna':\n",
    "        sample=file[8:-4]\n",
    "        if sample in bad:\n",
    "            continue\n",
    "        aln=AlignIO.read(path_to_files+file,'fasta')\n",
    "        gene_len+=[aln.get_alignment_length()]\n",
    "print(len(gene_len))"
   ]
  },
  {
   "cell_type": "code",
   "execution_count": 27,
   "metadata": {},
   "outputs": [
    {
     "name": "stdout",
     "output_type": "stream",
     "text": [
      "138\n",
      "4197\n",
      "846.0\n",
      "980.5015673981192\n"
     ]
    }
   ],
   "source": [
    "import statistics\n",
    "print(min(gene_len))\n",
    "print(max(gene_len))\n",
    "print(statistics.median(gene_len))\n",
    "print(statistics.mean(gene_len))"
   ]
  },
  {
   "cell_type": "code",
   "execution_count": null,
   "metadata": {},
   "outputs": [],
   "source": [
    "import argparse\n",
    "\n",
    "if __name__=='__main__':\n",
    "\n",
    "    parser = argparse.ArgumentParser(\n",
    "        description = '** Get gard_splits file from gard output ** This script will generate the gard_splits file for aBSRel from the gard output ',\n",
    "        usage = 'get_gardsplits_file.py -i <gard output json file> -out <output directory>')\n",
    "    parser.add_argument('-i', help='gard output json file', dest='file')\n",
    "    parser.add_argument('-out', help='path to output directory', dest='outdir')\n",
    "    \n",
    "    options = parser.parse_args()\n",
    "\n",
    "file = options.file\n",
    "outdir = options.f\n",
    "\n",
    "gene=file.split('/')[-1].replace('.GARD.json','')\n",
    "\n",
    "remote_file = open(file)\n",
    "gard_json = json.load(remote_file)\n",
    "\n",
    "if 'improvements' not in gard_json.keys():\n",
    "    ### write gard_splits output for absrel\n",
    "    entry='\\n\\n'\n",
    "    entry+='-'.join(map(str,([i-1 for i in gard_json['breakpointData']['bps'][0]])))+'\\n'+gard_json['breakpointData']['tree']+'\\n'\n",
    "    with open(outdir+'/'+gene+'.gard_splits','w') as fa:\n",
    "        fa.write(entry) \n",
    "\n",
    "else:\n",
    "\n",
    "    ### write gard_splits output for absrel\n",
    "    entry='\\n\\n'\n",
    "    for n in gard_json['breakpointData'].keys():\n",
    "        entry+='-'.join(map(str,([i-1 for i in gard_json['breakpointData'][str(n)]['bps'][0]])))+'\\n'+gard_json['breakpointData'][str(n)]['tree']+'\\n'\n",
    "    with open(outdir+'/'+gene+'.gard_splits','w') as fa:\n",
    "        fa.write(entry)   "
   ]
  },
  {
   "cell_type": "code",
   "execution_count": null,
   "metadata": {},
   "outputs": [],
   "source": [
    "path_to_files='/home/maeperez/projects/def-bacc/maeperez/Clams/VesicSymb_Evolution/mauve_alignments/'\n",
    "\n",
    "sqr=[\"MS2017_2127\",\"SP60_03800\",\"Rmag_1053\",\"Rpac_peg_860\",\"Rpha_peg_916\",\"Rpli_peg_1108\",\"Rrec_peg_666\",\"Rsou_peg_1601\",\"Vdia_peg_1009\",\"Vext_peg_996\",\"COSY_0953\",\"Vgig2_peg_983\",\"Vsoy2_peg_206\",\"HUE58_RS04055\",\"HUE58_RS05470\",\"Vgig1_peg_768\",\"Vsoy1_peg_787\",\"Vmar_0760\",\"MS2017_1667\",\"SP60_01550\",\"Rmag_0824\",\"Rpac_peg_570\",\"Rpha_peg_1560\",\"Rpli_peg_757\",\"Rrec_peg_358\",\"Rsou_peg_1256\",\"Vdia_peg_204\",\"Vext_peg_199\",\"COSY_0750\",\"Vgig2_peg_657\",\"Vsoy2_peg_3\",\"Vgig1_peg_984\",\"Vsoy1_peg_992\",\"Vdia_peg_1017\",\"Vext_peg_997\",\"Vgig2_peg_984\", \"Vmar_0957\",\"Vmar_0958\",\"Vgig1_peg_985\",\"Vsoy1_peg_1\"]\n",
    "gene_name='sqr'\n",
    "goodfiles={'Bathy':'../genomes/Bathy_complete_with_CRISPRannot.gbk',\\\n",
    "'R.fausta':'../genomes/R.fausta.gbk',\\\n",
    "'R.magnifica':'../genomes/R.magnifica.gbk',\\\n",
    "'R.pacifica':'../genomes/R.pacifica_one_contig_circular_fully_annotated.gbk',\\\n",
    "'R.phaseoliformis':'../genomes/R.phaseoliformis_8_contigs_fully_annotated.gbk',\\\n",
    "'R.pliocardia':'../genomes/R.pliocardia_one_contig_circular_fully_annotated.gbk',\\\n",
    "'R.rectimargo':'../genomes/R.rectimargo_one_contig_circular_fully_annotated.gbk',\\\n",
    "'R.southwardae':'../genomes/R.southwardae_39_contigs_fully_annotated.gbk',\\\n",
    "'SUP05':'../genomes/SUP05.gbk',\\\n",
    "'V.diagonalis':'../genomes/V.diagonalis_one_contig_circular_fully_annotated.gbk',\\\n",
    "'V.extenta':'../genomes/V.extenta_one_contig_circular_fully_annotated.gbk',\\\n",
    "'V.gigas1':'../genomes/V.gigas1_one_contig_circular_fully_annotated.gbk',\\\n",
    "'V.gigas2':'../genomes/V.gigas2_one_contig_circular_fully_annotated.gbk',\\\n",
    "'V.marissinica':'../genomes/V.marissinica_withlocustags.gbk',\\\n",
    "'V.okutanii':'../genomes/V.okutanii_with_locus_tags.gbk',\\\n",
    "'V.soyoae1':'../genomes/V.soyoae1_one_contig_circular_fully_annotated.gbk',\\\n",
    "'V.soyoae2':'../genomes/V.soyoae2_one_contig_circular_fully_annotated.gbk'}\n",
    "fna=[]\n",
    "faa=[]\n",
    "for sample in goodfiles.keys():\n",
    "    print(sample)\n",
    "    for record in SeqIO.parse(goodfiles[sample],'genbank'):\n",
    "            for feature in record.features:\n",
    "                if feature.type != 'CDS':\n",
    "                    continue\n",
    "                else:\n",
    "                    locus_tag=feature.qualifiers['locus_tag'][0]\n",
    "                    if locus_tag in sqr:\n",
    "                        ### create SeqRecord object ####\n",
    "                        DNAseq=feature.location.extract(record).seq\n",
    "                        try:\n",
    "                            AAseq=Seq(feature.qualifiers['translation'][0],alphabet=Gapped(IUPAC.extended_protein))\n",
    "                        except KeyError:\n",
    "                            print(feature)\n",
    "                            AAseq=feature.extract(record).translate(11)\n",
    "                            AAseq.id=locus_tag\n",
    "#                             print(AAseq.seq)\n",
    "                        \n",
    "                        header='|'.join([sample,locus_tag])\n",
    "                        fna_seq = SeqRecord(DNAseq,id=header)\n",
    "                        faa_seq = SeqRecord(AAseq,id=header)\n",
    "                        \n",
    "                        fna.append(fna_seq)\n",
    "                        faa.append(faa_seq)\n",
    "\n",
    "faa=[f for f in sorted(faa, key=lambda x : x.id)]\n",
    "fna=[f for f in sorted(fna, key=lambda x : x.id)]\n",
    "\n",
    "SeqIO.write(faa, path_to_files+'faa/'+gene_name+'.faa', \"fasta\")  \n",
    "SeqIO.write(faa, path_to_files+'fna/'+gene_name+'.fna', \"fasta\")  \n",
    "\n",
    "muscle_cline = MuscleCommandline('/cvmfs/soft.computecanada.ca/easybuild/software/2017/avx512/Compiler/gcc7.3/muscle/3.8.31/bin/muscle',input=path_to_files+'faa/'+gene_name+'.faa', out=path_to_files+'faa/aligned_'+gene_name+'.faa')\n",
    "muscle_cline()"
   ]
  },
  {
   "cell_type": "code",
   "execution_count": 22,
   "metadata": {},
   "outputs": [
    {
     "data": {
      "text/plain": [
       "40"
      ]
     },
     "execution_count": 22,
     "metadata": {},
     "output_type": "execute_result"
    }
   ],
   "source": [
    "table11=unambiguous_dna_by_id[11]\n",
    "table11.nucleotide_alphabet=IUPAC.ambiguous_dna\n",
    "table11.protein_alphabet=IUPAC.extended_protein\n",
    "table11.forward_table['GCK'] = \"A\"\n",
    "table11.forward_table['GGY'] = \"G\"\n",
    "table11.forward_table['ACY'] = \"T\"\n",
    "table11.forward_table['ATY'] = \"I\"\n",
    "table11.forward_table['ACR'] = \"T\"\n",
    "\n",
    "\n",
    "align = AlignIO.read(path_to_files+'faa/aligned_'+gene_name+'.faa', \"fasta\",alphabet=Gapped(IUPAC.extended_protein))\n",
    "aln = MultipleSeqAlignment([f for f in sorted(align, key=lambda x : x.id)])\n",
    "codon_aln = build(aln, fna,max_score=1000,codon_table=table11)\n",
    "\n",
    "SeqIO.write(codon_aln, path_to_files+'fna/aligned_'+gene_name+'.fna', \"fasta\")"
   ]
  },
  {
   "cell_type": "code",
   "execution_count": null,
   "metadata": {},
   "outputs": [],
   "source": []
  },
  {
   "cell_type": "code",
   "execution_count": null,
   "metadata": {},
   "outputs": [],
   "source": []
  }
 ],
 "metadata": {
  "kernelspec": {
   "display_name": "Python 3",
   "language": "python",
   "name": "python3"
  },
  "language_info": {
   "codemirror_mode": {
    "name": "ipython",
    "version": 3
   },
   "file_extension": ".py",
   "mimetype": "text/x-python",
   "name": "python",
   "nbconvert_exporter": "python",
   "pygments_lexer": "ipython3",
   "version": "3.6.3"
  }
 },
 "nbformat": 4,
 "nbformat_minor": 4
}
